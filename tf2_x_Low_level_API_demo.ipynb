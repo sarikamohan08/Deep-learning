{
  "nbformat": 4,
  "nbformat_minor": 0,
  "metadata": {
    "colab": {
      "name": "Copy of tf2.x_Low_level_API_demo.ipynb",
      "provenance": [],
      "collapsed_sections": []
    },
    "kernelspec": {
      "name": "python3",
      "display_name": "Python 3"
    },
    "language_info": {
      "name": "python"
    },
    "accelerator": "GPU"
  },
  "cells": [
    {
      "cell_type": "markdown",
      "metadata": {
        "id": "B9ecDAtcJt_N"
      },
      "source": [
        "# Tf 2.x low level API"
      ]
    },
    {
      "cell_type": "code",
      "metadata": {
        "id": "SdL6h7ChJgGH"
      },
      "source": [
        "import tensorflow as tf"
      ],
      "execution_count": 1,
      "outputs": []
    },
    {
      "cell_type": "code",
      "metadata": {
        "id": "oM4enaytKC6G"
      },
      "source": [
        "# What is keras? is it High level API or Low level?\n",
        "\n",
        "## High level API "
      ],
      "execution_count": 2,
      "outputs": []
    },
    {
      "cell_type": "markdown",
      "metadata": {
        "id": "GgknDFEcKZPB"
      },
      "source": [
        "## tensor constant\n",
        "\n",
        "### Tensor: Multi dim arrays"
      ]
    },
    {
      "cell_type": "code",
      "metadata": {
        "id": "kSNni2s0KK4K"
      },
      "source": [
        "const = tf.constant(43)"
      ],
      "execution_count": 3,
      "outputs": []
    },
    {
      "cell_type": "code",
      "metadata": {
        "colab": {
          "base_uri": "https://localhost:8080/"
        },
        "id": "Rn3dKBTmKyi2",
        "outputId": "2226a5a9-6c23-4f00-b1b0-84709c540de0"
      },
      "source": [
        "const"
      ],
      "execution_count": 4,
      "outputs": [
        {
          "output_type": "execute_result",
          "data": {
            "text/plain": [
              "<tf.Tensor: shape=(), dtype=int32, numpy=43>"
            ]
          },
          "metadata": {},
          "execution_count": 4
        }
      ]
    },
    {
      "cell_type": "code",
      "metadata": {
        "colab": {
          "base_uri": "https://localhost:8080/"
        },
        "id": "LSxhc4sUKzgK",
        "outputId": "84382bad-0597-4e3a-c954-0556dc8d16b3"
      },
      "source": [
        "const.numpy()\n"
      ],
      "execution_count": 5,
      "outputs": [
        {
          "output_type": "execute_result",
          "data": {
            "text/plain": [
              "43"
            ]
          },
          "metadata": {},
          "execution_count": 5
        }
      ]
    },
    {
      "cell_type": "code",
      "metadata": {
        "colab": {
          "base_uri": "https://localhost:8080/"
        },
        "id": "arT3aclNK9BJ",
        "outputId": "058f618f-958b-4ef3-89ef-18a4adb0ece3"
      },
      "source": [
        "## specify the datatype\n",
        "const = tf.constant(43, dtype=tf.int64)\n",
        "const"
      ],
      "execution_count": 6,
      "outputs": [
        {
          "output_type": "execute_result",
          "data": {
            "text/plain": [
              "<tf.Tensor: shape=(), dtype=int64, numpy=43>"
            ]
          },
          "metadata": {},
          "execution_count": 6
        }
      ]
    },
    {
      "cell_type": "code",
      "metadata": {
        "colab": {
          "base_uri": "https://localhost:8080/"
        },
        "id": "NbABqxkxLMp0",
        "outputId": "f5693c91-c936-40ab-b502-736991325b43"
      },
      "source": [
        "const_mat = tf.constant([[4,2],[9,5]])\n",
        "const_mat"
      ],
      "execution_count": 7,
      "outputs": [
        {
          "output_type": "execute_result",
          "data": {
            "text/plain": [
              "<tf.Tensor: shape=(2, 2), dtype=int32, numpy=\n",
              "array([[4, 2],\n",
              "       [9, 5]], dtype=int32)>"
            ]
          },
          "metadata": {},
          "execution_count": 7
        }
      ]
    },
    {
      "cell_type": "code",
      "metadata": {
        "colab": {
          "base_uri": "https://localhost:8080/"
        },
        "id": "ovv9mu_jLdWV",
        "outputId": "8511dd3e-bc39-4331-84e5-6ca792b02131"
      },
      "source": [
        "const_mat.shape"
      ],
      "execution_count": 8,
      "outputs": [
        {
          "output_type": "execute_result",
          "data": {
            "text/plain": [
              "TensorShape([2, 2])"
            ]
          },
          "metadata": {},
          "execution_count": 8
        }
      ]
    },
    {
      "cell_type": "code",
      "metadata": {
        "colab": {
          "base_uri": "https://localhost:8080/"
        },
        "id": "YjiX1JtpLl9i",
        "outputId": "aff4796d-2c6c-4e77-84fc-ab3e244fc44e"
      },
      "source": [
        "const_mat.dtype"
      ],
      "execution_count": 9,
      "outputs": [
        {
          "output_type": "execute_result",
          "data": {
            "text/plain": [
              "tf.int32"
            ]
          },
          "metadata": {},
          "execution_count": 9
        }
      ]
    },
    {
      "cell_type": "markdown",
      "metadata": {
        "id": "DCr6-i0GL0eW"
      },
      "source": [
        "`observe: Increase the no. hidden layers and observe what happens to size of the model that you save.\n",
        "\n",
        "Query: Before and after training will the model size will remain same or increase or decrease? ==> remains same`"
      ]
    },
    {
      "cell_type": "markdown",
      "metadata": {
        "id": "u-O4Z4BgM1xI"
      },
      "source": [
        "## Commonly used method"
      ]
    },
    {
      "cell_type": "code",
      "metadata": {
        "colab": {
          "base_uri": "https://localhost:8080/"
        },
        "id": "MbCS7lctLqKJ",
        "outputId": "f7a22ccb-6e73-4c68-a131-c72e07ec9122"
      },
      "source": [
        "tf.ones(shape=(2,3))"
      ],
      "execution_count": 10,
      "outputs": [
        {
          "output_type": "execute_result",
          "data": {
            "text/plain": [
              "<tf.Tensor: shape=(2, 3), dtype=float32, numpy=\n",
              "array([[1., 1., 1.],\n",
              "       [1., 1., 1.]], dtype=float32)>"
            ]
          },
          "metadata": {},
          "execution_count": 10
        }
      ]
    },
    {
      "cell_type": "code",
      "metadata": {
        "colab": {
          "base_uri": "https://localhost:8080/"
        },
        "id": "u2XUog5BNOjs",
        "outputId": "c1a7e65b-73c5-496d-e38d-a17f60077010"
      },
      "source": [
        "5 * tf.ones(shape=(2,3))"
      ],
      "execution_count": 11,
      "outputs": [
        {
          "output_type": "execute_result",
          "data": {
            "text/plain": [
              "<tf.Tensor: shape=(2, 3), dtype=float32, numpy=\n",
              "array([[5., 5., 5.],\n",
              "       [5., 5., 5.]], dtype=float32)>"
            ]
          },
          "metadata": {},
          "execution_count": 11
        }
      ]
    },
    {
      "cell_type": "code",
      "metadata": {
        "colab": {
          "base_uri": "https://localhost:8080/"
        },
        "id": "cd4PzAjSNDD8",
        "outputId": "def78a58-cec2-4e08-d75e-f695feaa748b"
      },
      "source": [
        "tf.zeros(shape=(2,3))"
      ],
      "execution_count": 12,
      "outputs": [
        {
          "output_type": "execute_result",
          "data": {
            "text/plain": [
              "<tf.Tensor: shape=(2, 3), dtype=float32, numpy=\n",
              "array([[0., 0., 0.],\n",
              "       [0., 0., 0.]], dtype=float32)>"
            ]
          },
          "metadata": {},
          "execution_count": 12
        }
      ]
    },
    {
      "cell_type": "markdown",
      "metadata": {
        "id": "vHbr_Ta9NlnV"
      },
      "source": [
        "## add operations"
      ]
    },
    {
      "cell_type": "code",
      "metadata": {
        "id": "6H33On74NL0L"
      },
      "source": [
        "const1 = tf.constant([[11,3,4],[3,4,5]])\n",
        "const2 = tf.constant([[7,9,5],[3,4,5]])"
      ],
      "execution_count": 13,
      "outputs": []
    },
    {
      "cell_type": "code",
      "metadata": {
        "colab": {
          "base_uri": "https://localhost:8080/"
        },
        "id": "eqdRi-7QN1HT",
        "outputId": "196d98db-d3ab-4d22-895c-d9d7ab5e7402"
      },
      "source": [
        "result = tf.add(const1, const2)\n",
        "result"
      ],
      "execution_count": 14,
      "outputs": [
        {
          "output_type": "execute_result",
          "data": {
            "text/plain": [
              "<tf.Tensor: shape=(2, 3), dtype=int32, numpy=\n",
              "array([[18, 12,  9],\n",
              "       [ 6,  8, 10]], dtype=int32)>"
            ]
          },
          "metadata": {},
          "execution_count": 14
        }
      ]
    },
    {
      "cell_type": "code",
      "metadata": {
        "colab": {
          "base_uri": "https://localhost:8080/"
        },
        "id": "Ql-LAfscOAYW",
        "outputId": "f021ce9f-c26d-44f0-a1da-9cdbccebec0c"
      },
      "source": [
        "const1 + const2"
      ],
      "execution_count": 15,
      "outputs": [
        {
          "output_type": "execute_result",
          "data": {
            "text/plain": [
              "<tf.Tensor: shape=(2, 3), dtype=int32, numpy=\n",
              "array([[18, 12,  9],\n",
              "       [ 6,  8, 10]], dtype=int32)>"
            ]
          },
          "metadata": {},
          "execution_count": 15
        }
      ]
    },
    {
      "cell_type": "markdown",
      "metadata": {
        "id": "5SvTYstMOyUY"
      },
      "source": [
        "## Random const"
      ]
    },
    {
      "cell_type": "code",
      "metadata": {
        "colab": {
          "base_uri": "https://localhost:8080/"
        },
        "id": "6e3cbb83Oqsd",
        "outputId": "e860d327-4215-4ee7-8945-f0b6ffbf3e23"
      },
      "source": [
        "x = tf.random.normal(shape=(2,2), mean=0, stddev=1.0)\n",
        "x"
      ],
      "execution_count": 16,
      "outputs": [
        {
          "output_type": "execute_result",
          "data": {
            "text/plain": [
              "<tf.Tensor: shape=(2, 2), dtype=float32, numpy=\n",
              "array([[-0.21976377, -0.48498598],\n",
              "       [-0.16503073,  1.766549  ]], dtype=float32)>"
            ]
          },
          "metadata": {},
          "execution_count": 16
        }
      ]
    },
    {
      "cell_type": "code",
      "metadata": {
        "colab": {
          "base_uri": "https://localhost:8080/"
        },
        "id": "J_l1VARkPAWs",
        "outputId": "3c33ed07-188f-4d8d-c7ce-77b9518c866f"
      },
      "source": [
        "x = tf.random.uniform(shape=(2,2), minval=0, maxval=10)\n",
        "x"
      ],
      "execution_count": 17,
      "outputs": [
        {
          "output_type": "execute_result",
          "data": {
            "text/plain": [
              "<tf.Tensor: shape=(2, 2), dtype=float32, numpy=\n",
              "array([[2.8732705, 4.8749423],\n",
              "       [1.3492656, 4.393697 ]], dtype=float32)>"
            ]
          },
          "metadata": {},
          "execution_count": 17
        }
      ]
    },
    {
      "cell_type": "code",
      "metadata": {
        "colab": {
          "base_uri": "https://localhost:8080/"
        },
        "id": "K63t_onQPepb",
        "outputId": "7608feb4-5be5-4d5b-81a0-07dd9451704e"
      },
      "source": [
        "x = tf.random.uniform(shape=(2,2), minval=0, maxval=10, dtype=tf.int32)\n",
        "x"
      ],
      "execution_count": 18,
      "outputs": [
        {
          "output_type": "execute_result",
          "data": {
            "text/plain": [
              "<tf.Tensor: shape=(2, 2), dtype=int32, numpy=\n",
              "array([[4, 6],\n",
              "       [0, 6]], dtype=int32)>"
            ]
          },
          "metadata": {},
          "execution_count": 18
        }
      ]
    },
    {
      "cell_type": "markdown",
      "metadata": {
        "id": "aFn9GLnIPyAW"
      },
      "source": [
        "## Variables\n",
        "\n"
      ]
    },
    {
      "cell_type": "code",
      "metadata": {
        "id": "rxX--18ZPqOj"
      },
      "source": [
        "var1 = tf.Variable(45)\n",
        "\n",
        "var2 = tf.Variable([[4,2],[9,5]])"
      ],
      "execution_count": 19,
      "outputs": []
    },
    {
      "cell_type": "code",
      "metadata": {
        "colab": {
          "base_uri": "https://localhost:8080/"
        },
        "id": "RJZhwwxsQ8v0",
        "outputId": "2583fdee-1ef8-4e32-ccce-6ee0e18db2c1"
      },
      "source": [
        "var1"
      ],
      "execution_count": 20,
      "outputs": [
        {
          "output_type": "execute_result",
          "data": {
            "text/plain": [
              "<tf.Variable 'Variable:0' shape=() dtype=int32, numpy=45>"
            ]
          },
          "metadata": {},
          "execution_count": 20
        }
      ]
    },
    {
      "cell_type": "code",
      "metadata": {
        "colab": {
          "base_uri": "https://localhost:8080/"
        },
        "id": "j6UO7vTSQ-Ui",
        "outputId": "2a94d589-3981-46b4-8406-4aed6cbb2f80"
      },
      "source": [
        "var1.numpy()"
      ],
      "execution_count": 21,
      "outputs": [
        {
          "output_type": "execute_result",
          "data": {
            "text/plain": [
              "45"
            ]
          },
          "metadata": {},
          "execution_count": 21
        }
      ]
    },
    {
      "cell_type": "code",
      "metadata": {
        "colab": {
          "base_uri": "https://localhost:8080/"
        },
        "id": "OHNj31OLRI2f",
        "outputId": "aa3b963f-246a-4ef3-ecaf-2af462a0404f"
      },
      "source": [
        "var1 = tf.Variable(45.4)\n",
        "var1"
      ],
      "execution_count": 22,
      "outputs": [
        {
          "output_type": "execute_result",
          "data": {
            "text/plain": [
              "<tf.Variable 'Variable:0' shape=() dtype=float32, numpy=45.4>"
            ]
          },
          "metadata": {},
          "execution_count": 22
        }
      ]
    },
    {
      "cell_type": "code",
      "metadata": {
        "colab": {
          "base_uri": "https://localhost:8080/"
        },
        "id": "OJ2qJlqnRXu2",
        "outputId": "1177e16c-024d-47c0-a94b-c439806e75f7"
      },
      "source": [
        "var1 = tf.Variable(45.4, dtype=tf.float16)\n",
        "var1"
      ],
      "execution_count": 23,
      "outputs": [
        {
          "output_type": "execute_result",
          "data": {
            "text/plain": [
              "<tf.Variable 'Variable:0' shape=() dtype=float16, numpy=45.4>"
            ]
          },
          "metadata": {},
          "execution_count": 23
        }
      ]
    },
    {
      "cell_type": "markdown",
      "metadata": {
        "id": "1OZS7nuEToEp"
      },
      "source": [
        "reassign a variable, var.assign()"
      ]
    },
    {
      "cell_type": "code",
      "metadata": {
        "id": "e5M7bHcfRv77"
      },
      "source": [
        "var1 = tf.Variable(45.4, dtype=tf.float16)"
      ],
      "execution_count": 24,
      "outputs": []
    },
    {
      "cell_type": "code",
      "metadata": {
        "colab": {
          "base_uri": "https://localhost:8080/"
        },
        "id": "dC6aE0jtRcpi",
        "outputId": "78c55135-322a-4998-bcd2-a303aeb31c3a"
      },
      "source": [
        "var1.assign(99)\n",
        "var1"
      ],
      "execution_count": 25,
      "outputs": [
        {
          "output_type": "execute_result",
          "data": {
            "text/plain": [
              "<tf.Variable 'Variable:0' shape=() dtype=float16, numpy=99.0>"
            ]
          },
          "metadata": {},
          "execution_count": 25
        }
      ]
    },
    {
      "cell_type": "markdown",
      "metadata": {
        "id": "YhhbN4GBUI5H"
      },
      "source": [
        "### reshaping operation"
      ]
    },
    {
      "cell_type": "code",
      "metadata": {
        "colab": {
          "base_uri": "https://localhost:8080/"
        },
        "id": "HYeBRsZ_T5RF",
        "outputId": "39b07492-eb1d-44e1-f545-a7b55b7fbcb1"
      },
      "source": [
        "tensor = tf.Variable([[[10, 11, 12], [13, 15, 18]],[[10, 11, 12], [13, 15, 18]]])\n",
        "tensor"
      ],
      "execution_count": 26,
      "outputs": [
        {
          "output_type": "execute_result",
          "data": {
            "text/plain": [
              "<tf.Variable 'Variable:0' shape=(2, 2, 3) dtype=int32, numpy=\n",
              "array([[[10, 11, 12],\n",
              "        [13, 15, 18]],\n",
              "\n",
              "       [[10, 11, 12],\n",
              "        [13, 15, 18]]], dtype=int32)>"
            ]
          },
          "metadata": {},
          "execution_count": 26
        }
      ]
    },
    {
      "cell_type": "code",
      "metadata": {
        "colab": {
          "base_uri": "https://localhost:8080/"
        },
        "id": "auyBdaSZWFe8",
        "outputId": "686ce6cb-6aba-4a50-ffa1-4de01d2f8fdf"
      },
      "source": [
        "tf.rank(tensor)"
      ],
      "execution_count": 27,
      "outputs": [
        {
          "output_type": "execute_result",
          "data": {
            "text/plain": [
              "<tf.Tensor: shape=(), dtype=int32, numpy=3>"
            ]
          },
          "metadata": {},
          "execution_count": 27
        }
      ]
    },
    {
      "cell_type": "code",
      "metadata": {
        "colab": {
          "base_uri": "https://localhost:8080/"
        },
        "id": "8UcIrG41Uh3m",
        "outputId": "ddb0ee84-fcfa-459f-ea6f-6db13f9ef775"
      },
      "source": [
        "reshape_val = tf.reshape(tensor, [2,6])\n",
        "reshape_val"
      ],
      "execution_count": 28,
      "outputs": [
        {
          "output_type": "execute_result",
          "data": {
            "text/plain": [
              "<tf.Tensor: shape=(2, 6), dtype=int32, numpy=\n",
              "array([[10, 11, 12, 13, 15, 18],\n",
              "       [10, 11, 12, 13, 15, 18]], dtype=int32)>"
            ]
          },
          "metadata": {},
          "execution_count": 28
        }
      ]
    },
    {
      "cell_type": "code",
      "metadata": {
        "colab": {
          "base_uri": "https://localhost:8080/"
        },
        "id": "F9TGpC9cUyad",
        "outputId": "61d4e2f2-e045-4622-8f9c-ce92fbbd2e37"
      },
      "source": [
        "reshape_val = tf.reshape(tensor, [1,12])\n",
        "reshape_val"
      ],
      "execution_count": 29,
      "outputs": [
        {
          "output_type": "execute_result",
          "data": {
            "text/plain": [
              "<tf.Tensor: shape=(1, 12), dtype=int32, numpy=array([[10, 11, 12, 13, 15, 18, 10, 11, 12, 13, 15, 18]], dtype=int32)>"
            ]
          },
          "metadata": {},
          "execution_count": 29
        }
      ]
    },
    {
      "cell_type": "markdown",
      "metadata": {
        "id": "ze74sSuEV4zg"
      },
      "source": [
        "## Rank of tensor\n",
        "\n",
        "no of dimensions, "
      ]
    },
    {
      "cell_type": "code",
      "metadata": {
        "colab": {
          "base_uri": "https://localhost:8080/"
        },
        "id": "umwn4X4BVrdo",
        "outputId": "adc9a1f4-a4fd-4afd-c1b7-b2741a49516c"
      },
      "source": [
        "tf.rank(reshape_val)"
      ],
      "execution_count": 30,
      "outputs": [
        {
          "output_type": "execute_result",
          "data": {
            "text/plain": [
              "<tf.Tensor: shape=(), dtype=int32, numpy=2>"
            ]
          },
          "metadata": {},
          "execution_count": 30
        }
      ]
    },
    {
      "cell_type": "code",
      "metadata": {
        "colab": {
          "base_uri": "https://localhost:8080/"
        },
        "id": "nT9Sfj7iV3T0",
        "outputId": "6bf6309e-8de1-476f-f795-e970c4dadfda"
      },
      "source": [
        "tensor"
      ],
      "execution_count": 31,
      "outputs": [
        {
          "output_type": "execute_result",
          "data": {
            "text/plain": [
              "<tf.Variable 'Variable:0' shape=(2, 2, 3) dtype=int32, numpy=\n",
              "array([[[10, 11, 12],\n",
              "        [13, 15, 18]],\n",
              "\n",
              "       [[10, 11, 12],\n",
              "        [13, 15, 18]]], dtype=int32)>"
            ]
          },
          "metadata": {},
          "execution_count": 31
        }
      ]
    },
    {
      "cell_type": "code",
      "metadata": {
        "colab": {
          "base_uri": "https://localhost:8080/"
        },
        "id": "KQieVeadWVbW",
        "outputId": "f8d1e6f2-0e63-46fa-fcdc-e0e0c7894284"
      },
      "source": [
        "tensor[0, 1, 1]"
      ],
      "execution_count": 32,
      "outputs": [
        {
          "output_type": "execute_result",
          "data": {
            "text/plain": [
              "<tf.Tensor: shape=(), dtype=int32, numpy=15>"
            ]
          },
          "metadata": {},
          "execution_count": 32
        }
      ]
    },
    {
      "cell_type": "code",
      "metadata": {
        "colab": {
          "base_uri": "https://localhost:8080/"
        },
        "id": "e6mI2lhWWlMb",
        "outputId": "19aa93e5-b4c0-416e-af3f-134f7f2d0480"
      },
      "source": [
        "tensor[0,:,1:]"
      ],
      "execution_count": 33,
      "outputs": [
        {
          "output_type": "execute_result",
          "data": {
            "text/plain": [
              "<tf.Tensor: shape=(2, 2), dtype=int32, numpy=\n",
              "array([[11, 12],\n",
              "       [15, 18]], dtype=int32)>"
            ]
          },
          "metadata": {},
          "execution_count": 33
        }
      ]
    },
    {
      "cell_type": "markdown",
      "metadata": {
        "id": "6ogOKRkNYz0q"
      },
      "source": [
        "## more mathematical operations"
      ]
    },
    {
      "cell_type": "code",
      "metadata": {
        "id": "T9qWodG8XF-J"
      },
      "source": [
        "a = tf.random.normal((2,2))\n",
        "b = tf.random.normal((2,2))\n",
        "\n",
        "\n",
        "c = a + b"
      ],
      "execution_count": 34,
      "outputs": []
    },
    {
      "cell_type": "code",
      "metadata": {
        "colab": {
          "base_uri": "https://localhost:8080/"
        },
        "id": "by1Ro4U8Y9TM",
        "outputId": "8db51d56-bb70-4493-96bf-632ba6b17fbc"
      },
      "source": [
        "c"
      ],
      "execution_count": 35,
      "outputs": [
        {
          "output_type": "execute_result",
          "data": {
            "text/plain": [
              "<tf.Tensor: shape=(2, 2), dtype=float32, numpy=\n",
              "array([[ 0.21835436,  1.5117147 ],\n",
              "       [-0.78698915,  1.6991525 ]], dtype=float32)>"
            ]
          },
          "metadata": {},
          "execution_count": 35
        }
      ]
    },
    {
      "cell_type": "code",
      "metadata": {
        "colab": {
          "base_uri": "https://localhost:8080/"
        },
        "id": "eCYHVLwIY9yF",
        "outputId": "271e8896-42de-4d1c-f1a9-691db08a20f6"
      },
      "source": [
        "tf.square(c)"
      ],
      "execution_count": 36,
      "outputs": [
        {
          "output_type": "execute_result",
          "data": {
            "text/plain": [
              "<tf.Tensor: shape=(2, 2), dtype=float32, numpy=\n",
              "array([[0.04767863, 2.2852814 ],\n",
              "       [0.6193519 , 2.887119  ]], dtype=float32)>"
            ]
          },
          "metadata": {},
          "execution_count": 36
        }
      ]
    },
    {
      "cell_type": "code",
      "metadata": {
        "colab": {
          "base_uri": "https://localhost:8080/"
        },
        "id": "9oV9SnvtZAil",
        "outputId": "5de9b180-5e1e-4563-dca3-169c146f0a0c"
      },
      "source": [
        "tf.exp(c)"
      ],
      "execution_count": 37,
      "outputs": [
        {
          "output_type": "execute_result",
          "data": {
            "text/plain": [
              "<tf.Tensor: shape=(2, 2), dtype=float32, numpy=\n",
              "array([[1.2440277, 4.534499 ],\n",
              "       [0.4552133, 5.4693103]], dtype=float32)>"
            ]
          },
          "metadata": {},
          "execution_count": 37
        }
      ]
    },
    {
      "cell_type": "code",
      "metadata": {
        "colab": {
          "base_uri": "https://localhost:8080/"
        },
        "id": "Q2ZFTm3XZGtm",
        "outputId": "c5528e91-e0d9-4c80-e21a-a91d7180e11c"
      },
      "source": [
        "# Element wise multiplication - \n",
        "tensor"
      ],
      "execution_count": 38,
      "outputs": [
        {
          "output_type": "execute_result",
          "data": {
            "text/plain": [
              "<tf.Variable 'Variable:0' shape=(2, 2, 3) dtype=int32, numpy=\n",
              "array([[[10, 11, 12],\n",
              "        [13, 15, 18]],\n",
              "\n",
              "       [[10, 11, 12],\n",
              "        [13, 15, 18]]], dtype=int32)>"
            ]
          },
          "metadata": {},
          "execution_count": 38
        }
      ]
    },
    {
      "cell_type": "code",
      "metadata": {
        "colab": {
          "base_uri": "https://localhost:8080/"
        },
        "id": "K82rPKLwZRGS",
        "outputId": "4e557b70-a681-4c8a-a686-381cf9f8f3e8"
      },
      "source": [
        "tensor * tensor"
      ],
      "execution_count": 39,
      "outputs": [
        {
          "output_type": "execute_result",
          "data": {
            "text/plain": [
              "<tf.Tensor: shape=(2, 2, 3), dtype=int32, numpy=\n",
              "array([[[100, 121, 144],\n",
              "        [169, 225, 324]],\n",
              "\n",
              "       [[100, 121, 144],\n",
              "        [169, 225, 324]]], dtype=int32)>"
            ]
          },
          "metadata": {},
          "execution_count": 39
        }
      ]
    },
    {
      "cell_type": "markdown",
      "metadata": {
        "id": "VclzS1uRZbrE"
      },
      "source": [
        "## Boradcasting in Tensorflow -\n"
      ]
    },
    {
      "cell_type": "code",
      "metadata": {
        "colab": {
          "base_uri": "https://localhost:8080/"
        },
        "id": "BRo-MawyZUw_",
        "outputId": "e46b2794-65a2-48a5-f38f-21bcb6064eb6"
      },
      "source": [
        "scaler = 4\n",
        "scaler * tensor"
      ],
      "execution_count": 40,
      "outputs": [
        {
          "output_type": "execute_result",
          "data": {
            "text/plain": [
              "<tf.Tensor: shape=(2, 2, 3), dtype=int32, numpy=\n",
              "array([[[40, 44, 48],\n",
              "        [52, 60, 72]],\n",
              "\n",
              "       [[40, 44, 48],\n",
              "        [52, 60, 72]]], dtype=int32)>"
            ]
          },
          "metadata": {},
          "execution_count": 40
        }
      ]
    },
    {
      "cell_type": "code",
      "metadata": {
        "colab": {
          "base_uri": "https://localhost:8080/"
        },
        "id": "8VF_6ZsIZlax",
        "outputId": "4684551f-a816-43dd-ad4e-74f4ca5a3cb8"
      },
      "source": [
        "scaler + tensor"
      ],
      "execution_count": 41,
      "outputs": [
        {
          "output_type": "execute_result",
          "data": {
            "text/plain": [
              "<tf.Tensor: shape=(2, 2, 3), dtype=int32, numpy=\n",
              "array([[[14, 15, 16],\n",
              "        [17, 19, 22]],\n",
              "\n",
              "       [[14, 15, 16],\n",
              "        [17, 19, 22]]], dtype=int32)>"
            ]
          },
          "metadata": {},
          "execution_count": 41
        }
      ]
    },
    {
      "cell_type": "code",
      "metadata": {
        "colab": {
          "base_uri": "https://localhost:8080/"
        },
        "id": "pCP1gM0lZwX5",
        "outputId": "e8006379-1c5f-4fd1-f630-8ea264fbe3ee"
      },
      "source": [
        "scaler - tensor\n"
      ],
      "execution_count": 42,
      "outputs": [
        {
          "output_type": "execute_result",
          "data": {
            "text/plain": [
              "<tf.Tensor: shape=(2, 2, 3), dtype=int32, numpy=\n",
              "array([[[ -6,  -7,  -8],\n",
              "        [ -9, -11, -14]],\n",
              "\n",
              "       [[ -6,  -7,  -8],\n",
              "        [ -9, -11, -14]]], dtype=int32)>"
            ]
          },
          "metadata": {},
          "execution_count": 42
        }
      ]
    },
    {
      "cell_type": "markdown",
      "metadata": {
        "id": "0I05A0fxZ-ye"
      },
      "source": [
        "# Matrix multiplication"
      ]
    },
    {
      "cell_type": "code",
      "metadata": {
        "id": "3hxebwrFZ2lG"
      },
      "source": [
        "mat_u = tf.constant([[6,7,7]])\n",
        "mat_v = tf.constant([[3,4,3]])"
      ],
      "execution_count": 43,
      "outputs": []
    },
    {
      "cell_type": "code",
      "metadata": {
        "colab": {
          "base_uri": "https://localhost:8080/"
        },
        "id": "iPAVKrsParx-",
        "outputId": "a9bc12b3-c159-4949-91db-205e8ee29f30"
      },
      "source": [
        "mat_u.shape"
      ],
      "execution_count": 44,
      "outputs": [
        {
          "output_type": "execute_result",
          "data": {
            "text/plain": [
              "TensorShape([1, 3])"
            ]
          },
          "metadata": {},
          "execution_count": 44
        }
      ]
    },
    {
      "cell_type": "code",
      "metadata": {
        "colab": {
          "base_uri": "https://localhost:8080/"
        },
        "id": "EgP3TdLGau51",
        "outputId": "ec83a698-537b-4ba1-ba8f-d4fb3151b3f4"
      },
      "source": [
        "mat_v.shape"
      ],
      "execution_count": 45,
      "outputs": [
        {
          "output_type": "execute_result",
          "data": {
            "text/plain": [
              "TensorShape([1, 3])"
            ]
          },
          "metadata": {},
          "execution_count": 45
        }
      ]
    },
    {
      "cell_type": "code",
      "metadata": {
        "colab": {
          "base_uri": "https://localhost:8080/"
        },
        "id": "PR7m6J_TazXr",
        "outputId": "ca22b8d1-576f-4def-df6f-173854225bb6"
      },
      "source": [
        "tf.transpose(mat_v).shape"
      ],
      "execution_count": 46,
      "outputs": [
        {
          "output_type": "execute_result",
          "data": {
            "text/plain": [
              "TensorShape([3, 1])"
            ]
          },
          "metadata": {},
          "execution_count": 46
        }
      ]
    },
    {
      "cell_type": "code",
      "metadata": {
        "colab": {
          "base_uri": "https://localhost:8080/"
        },
        "id": "TI-xyyUOa51a",
        "outputId": "98a409f2-8751-4500-b05b-fef6589083bf"
      },
      "source": [
        "mat_u.numpy()"
      ],
      "execution_count": 47,
      "outputs": [
        {
          "output_type": "execute_result",
          "data": {
            "text/plain": [
              "array([[6, 7, 7]], dtype=int32)"
            ]
          },
          "metadata": {},
          "execution_count": 47
        }
      ]
    },
    {
      "cell_type": "code",
      "metadata": {
        "colab": {
          "base_uri": "https://localhost:8080/"
        },
        "id": "pWMjypbrbB03",
        "outputId": "4893d528-0d2d-4d2c-c16a-5a8e82372446"
      },
      "source": [
        "tf.transpose(mat_v).numpy()"
      ],
      "execution_count": 48,
      "outputs": [
        {
          "output_type": "execute_result",
          "data": {
            "text/plain": [
              "array([[3],\n",
              "       [4],\n",
              "       [3]], dtype=int32)"
            ]
          },
          "metadata": {},
          "execution_count": 48
        }
      ]
    },
    {
      "cell_type": "code",
      "metadata": {
        "colab": {
          "base_uri": "https://localhost:8080/"
        },
        "id": "uRIIIUDVaZFf",
        "outputId": "d015d4b7-a233-47df-8e36-f8e90a668e88"
      },
      "source": [
        "tf.matmul(mat_u, tf.transpose(mat_v))"
      ],
      "execution_count": 49,
      "outputs": [
        {
          "output_type": "execute_result",
          "data": {
            "text/plain": [
              "<tf.Tensor: shape=(1, 1), dtype=int32, numpy=array([[67]], dtype=int32)>"
            ]
          },
          "metadata": {},
          "execution_count": 49
        }
      ]
    },
    {
      "cell_type": "code",
      "metadata": {
        "colab": {
          "base_uri": "https://localhost:8080/"
        },
        "id": "FGf4WnLabEv-",
        "outputId": "7095dadb-9b47-4451-bdae-2d0a4f10a513"
      },
      "source": [
        "tf.matmul(tf.transpose(mat_v), mat_u)"
      ],
      "execution_count": 50,
      "outputs": [
        {
          "output_type": "execute_result",
          "data": {
            "text/plain": [
              "<tf.Tensor: shape=(3, 3), dtype=int32, numpy=\n",
              "array([[18, 21, 21],\n",
              "       [24, 28, 28],\n",
              "       [18, 21, 21]], dtype=int32)>"
            ]
          },
          "metadata": {},
          "execution_count": 50
        }
      ]
    },
    {
      "cell_type": "code",
      "metadata": {
        "colab": {
          "base_uri": "https://localhost:8080/"
        },
        "id": "r1jPwTrKcPXW",
        "outputId": "ff41f6fd-1616-4853-cc4e-0a7ef594f55c"
      },
      "source": [
        "tf.transpose(mat_v) @ mat_u ### <<< Matrix mul"
      ],
      "execution_count": 51,
      "outputs": [
        {
          "output_type": "execute_result",
          "data": {
            "text/plain": [
              "<tf.Tensor: shape=(3, 3), dtype=int32, numpy=\n",
              "array([[18, 21, 21],\n",
              "       [24, 28, 28],\n",
              "       [18, 21, 21]], dtype=int32)>"
            ]
          },
          "metadata": {},
          "execution_count": 51
        }
      ]
    },
    {
      "cell_type": "code",
      "metadata": {
        "colab": {
          "base_uri": "https://localhost:8080/"
        },
        "id": "e3GgqxqlcYD7",
        "outputId": "56ebc0ae-0ded-42b9-d1fd-e6d6306ea931"
      },
      "source": [
        "mat_u @ tf.transpose(mat_v) ### <<< Matrix mul\n"
      ],
      "execution_count": 52,
      "outputs": [
        {
          "output_type": "execute_result",
          "data": {
            "text/plain": [
              "<tf.Tensor: shape=(1, 1), dtype=int32, numpy=array([[67]], dtype=int32)>"
            ]
          },
          "metadata": {},
          "execution_count": 52
        }
      ]
    },
    {
      "cell_type": "code",
      "metadata": {
        "colab": {
          "base_uri": "https://localhost:8080/"
        },
        "id": "-mIiCWb7aPn2",
        "outputId": "c5a65237-b5d4-44be-fd76-ea626f258e88"
      },
      "source": [
        "mat_u * mat_v # element wise multiplication"
      ],
      "execution_count": 53,
      "outputs": [
        {
          "output_type": "execute_result",
          "data": {
            "text/plain": [
              "<tf.Tensor: shape=(1, 3), dtype=int32, numpy=array([[18, 28, 21]], dtype=int32)>"
            ]
          },
          "metadata": {},
          "execution_count": 53
        }
      ]
    },
    {
      "cell_type": "markdown",
      "metadata": {
        "id": "Y8L7A0cBcix1"
      },
      "source": [
        "## Casting method in tensorflow to change the datatype"
      ]
    },
    {
      "cell_type": "code",
      "metadata": {
        "colab": {
          "base_uri": "https://localhost:8080/"
        },
        "id": "6BfW8hHOciHF",
        "outputId": "8f1699ee-f59f-4ddf-ac0e-c2c4baacfa7c"
      },
      "source": [
        "tf.cast(mat_u, dtype=tf.int16) ### < can be utilized in quantization"
      ],
      "execution_count": 54,
      "outputs": [
        {
          "output_type": "execute_result",
          "data": {
            "text/plain": [
              "<tf.Tensor: shape=(1, 3), dtype=int16, numpy=array([[6, 7, 7]], dtype=int16)>"
            ]
          },
          "metadata": {},
          "execution_count": 54
        }
      ]
    },
    {
      "cell_type": "code",
      "metadata": {
        "colab": {
          "base_uri": "https://localhost:8080/"
        },
        "id": "XwdMAHu4aUlx",
        "outputId": "db090c61-9031-46a3-ce17-970834f4e502"
      },
      "source": [
        "tf.cast(tf.constant(444.1324), dtype=tf.int32)"
      ],
      "execution_count": 55,
      "outputs": [
        {
          "output_type": "execute_result",
          "data": {
            "text/plain": [
              "<tf.Tensor: shape=(), dtype=int32, numpy=444>"
            ]
          },
          "metadata": {},
          "execution_count": 55
        }
      ]
    },
    {
      "cell_type": "markdown",
      "metadata": {
        "id": "HmciIV0UfnUL"
      },
      "source": [
        "## Ragged tensors\n",
        "nested variable length arrays"
      ]
    },
    {
      "cell_type": "code",
      "metadata": {
        "id": "jmwrO7k5fmz1"
      },
      "source": [
        "ragged = tf.ragged.constant([[1,2,3,4,5], [], [1,2,3]])"
      ],
      "execution_count": 56,
      "outputs": []
    },
    {
      "cell_type": "code",
      "metadata": {
        "id": "wB0U78ulgd-h"
      },
      "source": [
        "# ragged = tf.constant([[1,2,3,4,5], [], [1,2,3]])\n"
      ],
      "execution_count": 57,
      "outputs": []
    },
    {
      "cell_type": "code",
      "metadata": {
        "colab": {
          "base_uri": "https://localhost:8080/"
        },
        "id": "PCYON0qxfh64",
        "outputId": "a8bd7a93-3a5f-4e01-bc43-ae643fd2f8ab"
      },
      "source": [
        "ragged.shape"
      ],
      "execution_count": 58,
      "outputs": [
        {
          "output_type": "execute_result",
          "data": {
            "text/plain": [
              "TensorShape([3, None])"
            ]
          },
          "metadata": {},
          "execution_count": 58
        }
      ]
    },
    {
      "cell_type": "code",
      "metadata": {
        "colab": {
          "base_uri": "https://localhost:8080/"
        },
        "id": "dLVKk3MmgoEQ",
        "outputId": "9a47c116-94da-4254-83cf-c4e7d1083d72"
      },
      "source": [
        "ragged[0, :].shape"
      ],
      "execution_count": 59,
      "outputs": [
        {
          "output_type": "execute_result",
          "data": {
            "text/plain": [
              "TensorShape([5])"
            ]
          },
          "metadata": {},
          "execution_count": 59
        }
      ]
    },
    {
      "cell_type": "code",
      "metadata": {
        "colab": {
          "base_uri": "https://localhost:8080/"
        },
        "id": "t3dnyuy_gvZA",
        "outputId": "73aa5522-d3e3-443f-d879-dee96c59e282"
      },
      "source": [
        "ragged[1, :].shape\n"
      ],
      "execution_count": 60,
      "outputs": [
        {
          "output_type": "execute_result",
          "data": {
            "text/plain": [
              "TensorShape([0])"
            ]
          },
          "metadata": {},
          "execution_count": 60
        }
      ]
    },
    {
      "cell_type": "code",
      "metadata": {
        "colab": {
          "base_uri": "https://localhost:8080/"
        },
        "id": "x3s0J4JAg4gy",
        "outputId": "695c6dfa-79d5-4d27-e47e-7e542cf75d8f"
      },
      "source": [
        "ragged[2, :].shape\n"
      ],
      "execution_count": 61,
      "outputs": [
        {
          "output_type": "execute_result",
          "data": {
            "text/plain": [
              "TensorShape([3])"
            ]
          },
          "metadata": {},
          "execution_count": 61
        }
      ]
    },
    {
      "cell_type": "markdown",
      "metadata": {
        "id": "1NDkffkVhMSx"
      },
      "source": [
        "## Squared difference of tensors"
      ]
    },
    {
      "cell_type": "code",
      "metadata": {
        "colab": {
          "base_uri": "https://localhost:8080/"
        },
        "id": "qa8U0PGChLIS",
        "outputId": "683e756d-488b-4414-beba-baf5261bdc94"
      },
      "source": [
        "varx = [1,2,3,4,5,6]\n",
        "vary = 2\n",
        "\n",
        "tf.math.squared_difference(varx, vary)"
      ],
      "execution_count": 62,
      "outputs": [
        {
          "output_type": "execute_result",
          "data": {
            "text/plain": [
              "<tf.Tensor: shape=(6,), dtype=int32, numpy=array([ 1,  0,  1,  4,  9, 16], dtype=int32)>"
            ]
          },
          "metadata": {},
          "execution_count": 62
        }
      ]
    },
    {
      "cell_type": "code",
      "metadata": {
        "colab": {
          "base_uri": "https://localhost:8080/"
        },
        "id": "Oe4LK7Bag7vT",
        "outputId": "18cead73-0bc6-44f1-bb5f-ec0bd491a7be"
      },
      "source": [
        "pred = [1,2,3,4,5,6]\n",
        "actual = [1,1,1,1,1,1]\n",
        "\n",
        "tf.math.squared_difference(pred, actual)"
      ],
      "execution_count": 63,
      "outputs": [
        {
          "output_type": "execute_result",
          "data": {
            "text/plain": [
              "<tf.Tensor: shape=(6,), dtype=int32, numpy=array([ 0,  1,  4,  9, 16, 25], dtype=int32)>"
            ]
          },
          "metadata": {},
          "execution_count": 63
        }
      ]
    },
    {
      "cell_type": "markdown",
      "metadata": {
        "id": "MVi-JFFch5OS"
      },
      "source": [
        "## calculate mean"
      ]
    },
    {
      "cell_type": "code",
      "metadata": {
        "colab": {
          "base_uri": "https://localhost:8080/"
        },
        "id": "-Hv1npO2hzVS",
        "outputId": "12794360-0771-4661-a32d-0e31c2f8dc8b"
      },
      "source": [
        "num = tf.constant([[1,2],[3,4]], dtype=tf.float32)\n",
        "num"
      ],
      "execution_count": 64,
      "outputs": [
        {
          "output_type": "execute_result",
          "data": {
            "text/plain": [
              "<tf.Tensor: shape=(2, 2), dtype=float32, numpy=\n",
              "array([[1., 2.],\n",
              "       [3., 4.]], dtype=float32)>"
            ]
          },
          "metadata": {},
          "execution_count": 64
        }
      ]
    },
    {
      "cell_type": "code",
      "metadata": {
        "colab": {
          "base_uri": "https://localhost:8080/"
        },
        "id": "1_ke7g9HiDOp",
        "outputId": "b74eb668-5dab-476f-f6f4-4c375cf10a73"
      },
      "source": [
        "tf.reduce_mean(num)"
      ],
      "execution_count": 65,
      "outputs": [
        {
          "output_type": "execute_result",
          "data": {
            "text/plain": [
              "<tf.Tensor: shape=(), dtype=float32, numpy=2.5>"
            ]
          },
          "metadata": {},
          "execution_count": 65
        }
      ]
    },
    {
      "cell_type": "code",
      "metadata": {
        "colab": {
          "base_uri": "https://localhost:8080/"
        },
        "id": "GHGP4WY6iNFc",
        "outputId": "eb0a5039-55fd-4a94-ef15-944b14bdfe10"
      },
      "source": [
        "tf.reduce_mean(num, axis=0) # row wise mean"
      ],
      "execution_count": 66,
      "outputs": [
        {
          "output_type": "execute_result",
          "data": {
            "text/plain": [
              "<tf.Tensor: shape=(2,), dtype=float32, numpy=array([2., 3.], dtype=float32)>"
            ]
          },
          "metadata": {},
          "execution_count": 66
        }
      ]
    },
    {
      "cell_type": "code",
      "metadata": {
        "colab": {
          "base_uri": "https://localhost:8080/"
        },
        "id": "QK_-aZm7iT26",
        "outputId": "c257f747-36b4-4160-e51d-a9b2bf45dfdc"
      },
      "source": [
        "tf.reduce_mean(num, axis=1) # col wise mean"
      ],
      "execution_count": 67,
      "outputs": [
        {
          "output_type": "execute_result",
          "data": {
            "text/plain": [
              "<tf.Tensor: shape=(2,), dtype=float32, numpy=array([1.5, 3.5], dtype=float32)>"
            ]
          },
          "metadata": {},
          "execution_count": 67
        }
      ]
    },
    {
      "cell_type": "code",
      "metadata": {
        "colab": {
          "base_uri": "https://localhost:8080/"
        },
        "id": "8xH-kHRZigSz",
        "outputId": "cfb124ce-02ad-49cc-8c68-effdce2b5b54"
      },
      "source": [
        "tf.reduce_mean(num, axis=1, keepdims=True) # col wise mean"
      ],
      "execution_count": 68,
      "outputs": [
        {
          "output_type": "execute_result",
          "data": {
            "text/plain": [
              "<tf.Tensor: shape=(2, 1), dtype=float32, numpy=\n",
              "array([[1.5],\n",
              "       [3.5]], dtype=float32)>"
            ]
          },
          "metadata": {},
          "execution_count": 68
        }
      ]
    },
    {
      "cell_type": "code",
      "metadata": {
        "id": "QmL4ko-jjGp0"
      },
      "source": [
        ""
      ],
      "execution_count": 68,
      "outputs": []
    }
  ]
}